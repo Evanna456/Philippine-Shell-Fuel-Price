{
 "cells": [
  {
   "cell_type": "code",
   "execution_count": 148,
   "id": "175bd5e0-4bec-4e87-b8ea-546dc1bed18a",
   "metadata": {},
   "outputs": [],
   "source": [
    "import pandas as pd\n",
    "import numpy as np\n",
    "import seaborn as sns\n",
    "import datetime as dt\n",
    "from sklearn.linear_model import LinearRegression\n",
    "pd.set_option('display.max_columns', None)\n",
    "%matplotlib inline"
   ]
  },
  {
   "cell_type": "code",
   "execution_count": 149,
   "id": "4984986f-c30f-4c55-a1aa-27899c283b91",
   "metadata": {},
   "outputs": [],
   "source": [
    "lm=LinearRegression()"
   ]
  },
  {
   "cell_type": "code",
   "execution_count": 150,
   "id": "b9e1f6cd-259d-4bfc-8d22-ea65b19e045d",
   "metadata": {
    "scrolled": true
   },
   "outputs": [],
   "source": [
    "manila = pd.read_csv(\"./data/Manila.csv\")\n",
    "manila = manila.dropna()"
   ]
  },
  {
   "cell_type": "code",
   "execution_count": 156,
   "id": "dfcf6712-eb70-4636-8a94-c6ec4da07609",
   "metadata": {},
   "outputs": [],
   "source": [
    "manila2 = manila.copy()\n",
    "manila2 = manila2.drop('Diesel', axis=1)\n",
    "manila2['Date'] = pd.to_datetime(manila2['Date'])\n",
    "manila2['Date']= manila2['Date'].map(dt.datetime.toordinal)"
   ]
  },
  {
   "cell_type": "code",
   "execution_count": 152,
   "id": "ab51ec4b-a048-448b-bb33-322c3f616310",
   "metadata": {},
   "outputs": [
    {
     "data": {
      "text/plain": [
       "0.21048091613148945"
      ]
     },
     "execution_count": 152,
     "metadata": {},
     "output_type": "execute_result"
    }
   ],
   "source": [
    "manila_x = manila2[['Date']]\n",
    "manila_y = manila2['RON91']\n",
    "lm.fit(manila_x,manila_y)\n",
    "lm.score(manila_x,manila_y)"
   ]
  },
  {
   "cell_type": "code",
   "execution_count": 153,
   "id": "771ca212-51eb-4697-ad2f-757eb98e9595",
   "metadata": {},
   "outputs": [
    {
     "data": {
      "text/html": [
       "<div>\n",
       "<style scoped>\n",
       "    .dataframe tbody tr th:only-of-type {\n",
       "        vertical-align: middle;\n",
       "    }\n",
       "\n",
       "    .dataframe tbody tr th {\n",
       "        vertical-align: top;\n",
       "    }\n",
       "\n",
       "    .dataframe thead th {\n",
       "        text-align: right;\n",
       "    }\n",
       "</style>\n",
       "<table border=\"1\" class=\"dataframe\">\n",
       "  <thead>\n",
       "    <tr style=\"text-align: right;\">\n",
       "      <th></th>\n",
       "      <th>Date</th>\n",
       "      <th>RON91</th>\n",
       "    </tr>\n",
       "  </thead>\n",
       "  <tbody>\n",
       "    <tr>\n",
       "      <th>0</th>\n",
       "      <td>2024-03-03</td>\n",
       "      <td>67.80</td>\n",
       "    </tr>\n",
       "    <tr>\n",
       "      <th>1</th>\n",
       "      <td>2024-03-16</td>\n",
       "      <td>68.04</td>\n",
       "    </tr>\n",
       "    <tr>\n",
       "      <th>2</th>\n",
       "      <td>2024-03-25</td>\n",
       "      <td>68.21</td>\n",
       "    </tr>\n",
       "  </tbody>\n",
       "</table>\n",
       "</div>"
      ],
      "text/plain": [
       "         Date  RON91\n",
       "0  2024-03-03  67.80\n",
       "1  2024-03-16  68.04\n",
       "2  2024-03-25  68.21"
      ]
     },
     "execution_count": 153,
     "metadata": {},
     "output_type": "execute_result"
    }
   ],
   "source": [
    "manila3 = pd.DataFrame({'Date': [\"2024-03-03\", \"2024-03-16\", \"2024-03-25\"]})\n",
    "manila4 = manila3.copy()\n",
    "manila4['Date'] = pd.to_datetime(manila4['Date'])\n",
    "manila4['Date']= manila4['Date'].map(dt.datetime.toordinal)\n",
    "manila3['RON91'] = lm.predict(manila4[['Date']]).round(2)\n",
    "manila3"
   ]
  },
  {
   "cell_type": "code",
   "execution_count": 159,
   "id": "7da609cf-c469-4aa3-a4b1-417909c32923",
   "metadata": {},
   "outputs": [
    {
     "data": {
      "text/html": [
       "<div>\n",
       "<style scoped>\n",
       "    .dataframe tbody tr th:only-of-type {\n",
       "        vertical-align: middle;\n",
       "    }\n",
       "\n",
       "    .dataframe tbody tr th {\n",
       "        vertical-align: top;\n",
       "    }\n",
       "\n",
       "    .dataframe thead th {\n",
       "        text-align: right;\n",
       "    }\n",
       "</style>\n",
       "<table border=\"1\" class=\"dataframe\">\n",
       "  <thead>\n",
       "    <tr style=\"text-align: right;\">\n",
       "      <th></th>\n",
       "      <th>Date</th>\n",
       "      <th>Diesel</th>\n",
       "    </tr>\n",
       "  </thead>\n",
       "  <tbody>\n",
       "    <tr>\n",
       "      <th>1</th>\n",
       "      <td>738840</td>\n",
       "      <td>62.75</td>\n",
       "    </tr>\n",
       "    <tr>\n",
       "      <th>2</th>\n",
       "      <td>738854</td>\n",
       "      <td>61.15</td>\n",
       "    </tr>\n",
       "    <tr>\n",
       "      <th>3</th>\n",
       "      <td>738861</td>\n",
       "      <td>60.85</td>\n",
       "    </tr>\n",
       "    <tr>\n",
       "      <th>4</th>\n",
       "      <td>738876</td>\n",
       "      <td>59.10</td>\n",
       "    </tr>\n",
       "    <tr>\n",
       "      <th>5</th>\n",
       "      <td>738882</td>\n",
       "      <td>60.80</td>\n",
       "    </tr>\n",
       "    <tr>\n",
       "      <th>6</th>\n",
       "      <td>738889</td>\n",
       "      <td>60.45</td>\n",
       "    </tr>\n",
       "    <tr>\n",
       "      <th>7</th>\n",
       "      <td>738901</td>\n",
       "      <td>61.45</td>\n",
       "    </tr>\n",
       "    <tr>\n",
       "      <th>8</th>\n",
       "      <td>738910</td>\n",
       "      <td>62.40</td>\n",
       "    </tr>\n",
       "    <tr>\n",
       "      <th>9</th>\n",
       "      <td>738917</td>\n",
       "      <td>63.70</td>\n",
       "    </tr>\n",
       "    <tr>\n",
       "      <th>10</th>\n",
       "      <td>738931</td>\n",
       "      <td>64.10</td>\n",
       "    </tr>\n",
       "    <tr>\n",
       "      <th>11</th>\n",
       "      <td>738943</td>\n",
       "      <td>63.53</td>\n",
       "    </tr>\n",
       "  </tbody>\n",
       "</table>\n",
       "</div>"
      ],
      "text/plain": [
       "      Date  Diesel\n",
       "1   738840   62.75\n",
       "2   738854   61.15\n",
       "3   738861   60.85\n",
       "4   738876   59.10\n",
       "5   738882   60.80\n",
       "6   738889   60.45\n",
       "7   738901   61.45\n",
       "8   738910   62.40\n",
       "9   738917   63.70\n",
       "10  738931   64.10\n",
       "11  738943   63.53"
      ]
     },
     "execution_count": 159,
     "metadata": {},
     "output_type": "execute_result"
    }
   ],
   "source": [
    "manila2 = manila.copy()\n",
    "manila2 = manila2.drop('RON91', axis=1)\n",
    "manila2['Date'] = pd.to_datetime(manila2['Date'])\n",
    "manila2['Date']= manila2['Date'].map(dt.datetime.toordinal)\n",
    "manila2 = manila2.iloc[1:]\n",
    "manila2"
   ]
  },
  {
   "cell_type": "code",
   "execution_count": 161,
   "id": "db213a22-6da1-4b38-b158-ca6d5ccfe111",
   "metadata": {},
   "outputs": [
    {
     "data": {
      "text/plain": [
       "0.33279372307423793"
      ]
     },
     "execution_count": 161,
     "metadata": {},
     "output_type": "execute_result"
    }
   ],
   "source": [
    "manila_x = manila2[['Date']]\n",
    "manila_z = manila2['Diesel']\n",
    "lm.fit(manila_x,manila_z)\n",
    "lm.score(manila_x,manila_z)"
   ]
  },
  {
   "cell_type": "code",
   "execution_count": 162,
   "id": "68ac2877-d15c-402e-a60d-153e479e1b6d",
   "metadata": {},
   "outputs": [
    {
     "data": {
      "text/html": [
       "<div>\n",
       "<style scoped>\n",
       "    .dataframe tbody tr th:only-of-type {\n",
       "        vertical-align: middle;\n",
       "    }\n",
       "\n",
       "    .dataframe tbody tr th {\n",
       "        vertical-align: top;\n",
       "    }\n",
       "\n",
       "    .dataframe thead th {\n",
       "        text-align: right;\n",
       "    }\n",
       "</style>\n",
       "<table border=\"1\" class=\"dataframe\">\n",
       "  <thead>\n",
       "    <tr style=\"text-align: right;\">\n",
       "      <th></th>\n",
       "      <th>Date</th>\n",
       "      <th>RON91</th>\n",
       "      <th>Diesel</th>\n",
       "    </tr>\n",
       "  </thead>\n",
       "  <tbody>\n",
       "    <tr>\n",
       "      <th>0</th>\n",
       "      <td>2024-03-03</td>\n",
       "      <td>67.80</td>\n",
       "      <td>63.42</td>\n",
       "    </tr>\n",
       "    <tr>\n",
       "      <th>1</th>\n",
       "      <td>2024-03-16</td>\n",
       "      <td>68.04</td>\n",
       "      <td>63.78</td>\n",
       "    </tr>\n",
       "    <tr>\n",
       "      <th>2</th>\n",
       "      <td>2024-03-25</td>\n",
       "      <td>68.21</td>\n",
       "      <td>64.03</td>\n",
       "    </tr>\n",
       "  </tbody>\n",
       "</table>\n",
       "</div>"
      ],
      "text/plain": [
       "         Date  RON91  Diesel\n",
       "0  2024-03-03  67.80   63.42\n",
       "1  2024-03-16  68.04   63.78\n",
       "2  2024-03-25  68.21   64.03"
      ]
     },
     "execution_count": 162,
     "metadata": {},
     "output_type": "execute_result"
    }
   ],
   "source": [
    "manila4 = manila3.copy()\n",
    "manila4['Date'] = pd.to_datetime(manila4['Date'])\n",
    "manila4['Date']= manila4['Date'].map(dt.datetime.toordinal)\n",
    "manila3['Diesel'] = lm.predict(manila4[['Date']]).round(2)\n",
    "manila3"
   ]
  },
  {
   "cell_type": "code",
   "execution_count": 164,
   "id": "e97f4db5-861a-4f0d-bafa-901aed8b3383",
   "metadata": {},
   "outputs": [
    {
     "data": {
      "text/html": [
       "<div>\n",
       "<style scoped>\n",
       "    .dataframe tbody tr th:only-of-type {\n",
       "        vertical-align: middle;\n",
       "    }\n",
       "\n",
       "    .dataframe tbody tr th {\n",
       "        vertical-align: top;\n",
       "    }\n",
       "\n",
       "    .dataframe thead th {\n",
       "        text-align: right;\n",
       "    }\n",
       "</style>\n",
       "<table border=\"1\" class=\"dataframe\">\n",
       "  <thead>\n",
       "    <tr style=\"text-align: right;\">\n",
       "      <th></th>\n",
       "      <th>Date</th>\n",
       "      <th>RON91</th>\n",
       "      <th>Diesel</th>\n",
       "    </tr>\n",
       "  </thead>\n",
       "  <tbody>\n",
       "    <tr>\n",
       "      <th>0</th>\n",
       "      <td>2023-11-03</td>\n",
       "      <td>67.40</td>\n",
       "      <td>66.85</td>\n",
       "    </tr>\n",
       "    <tr>\n",
       "      <th>1</th>\n",
       "      <td>2023-11-16</td>\n",
       "      <td>66.25</td>\n",
       "      <td>62.75</td>\n",
       "    </tr>\n",
       "    <tr>\n",
       "      <th>2</th>\n",
       "      <td>2023-11-30</td>\n",
       "      <td>65.50</td>\n",
       "      <td>61.15</td>\n",
       "    </tr>\n",
       "    <tr>\n",
       "      <th>3</th>\n",
       "      <td>2023-12-07</td>\n",
       "      <td>65.80</td>\n",
       "      <td>60.85</td>\n",
       "    </tr>\n",
       "    <tr>\n",
       "      <th>4</th>\n",
       "      <td>2023-12-22</td>\n",
       "      <td>64.20</td>\n",
       "      <td>59.10</td>\n",
       "    </tr>\n",
       "    <tr>\n",
       "      <th>5</th>\n",
       "      <td>2023-12-28</td>\n",
       "      <td>65.80</td>\n",
       "      <td>60.80</td>\n",
       "    </tr>\n",
       "    <tr>\n",
       "      <th>6</th>\n",
       "      <td>2024-01-04</td>\n",
       "      <td>65.70</td>\n",
       "      <td>60.45</td>\n",
       "    </tr>\n",
       "    <tr>\n",
       "      <th>7</th>\n",
       "      <td>2024-01-16</td>\n",
       "      <td>66.10</td>\n",
       "      <td>61.45</td>\n",
       "    </tr>\n",
       "    <tr>\n",
       "      <th>8</th>\n",
       "      <td>2024-01-25</td>\n",
       "      <td>67.40</td>\n",
       "      <td>62.40</td>\n",
       "    </tr>\n",
       "    <tr>\n",
       "      <th>9</th>\n",
       "      <td>2024-02-01</td>\n",
       "      <td>69.95</td>\n",
       "      <td>63.70</td>\n",
       "    </tr>\n",
       "    <tr>\n",
       "      <th>10</th>\n",
       "      <td>2024-02-15</td>\n",
       "      <td>67.95</td>\n",
       "      <td>64.10</td>\n",
       "    </tr>\n",
       "    <tr>\n",
       "      <th>11</th>\n",
       "      <td>2024-02-27</td>\n",
       "      <td>67.43</td>\n",
       "      <td>63.53</td>\n",
       "    </tr>\n",
       "    <tr>\n",
       "      <th>0</th>\n",
       "      <td>2024-03-03</td>\n",
       "      <td>67.80</td>\n",
       "      <td>63.42</td>\n",
       "    </tr>\n",
       "    <tr>\n",
       "      <th>1</th>\n",
       "      <td>2024-03-16</td>\n",
       "      <td>68.04</td>\n",
       "      <td>63.78</td>\n",
       "    </tr>\n",
       "    <tr>\n",
       "      <th>2</th>\n",
       "      <td>2024-03-25</td>\n",
       "      <td>68.21</td>\n",
       "      <td>64.03</td>\n",
       "    </tr>\n",
       "  </tbody>\n",
       "</table>\n",
       "</div>"
      ],
      "text/plain": [
       "          Date  RON91  Diesel\n",
       "0   2023-11-03  67.40   66.85\n",
       "1   2023-11-16  66.25   62.75\n",
       "2   2023-11-30  65.50   61.15\n",
       "3   2023-12-07  65.80   60.85\n",
       "4   2023-12-22  64.20   59.10\n",
       "5   2023-12-28  65.80   60.80\n",
       "6   2024-01-04  65.70   60.45\n",
       "7   2024-01-16  66.10   61.45\n",
       "8   2024-01-25  67.40   62.40\n",
       "9   2024-02-01  69.95   63.70\n",
       "10  2024-02-15  67.95   64.10\n",
       "11  2024-02-27  67.43   63.53\n",
       "0   2024-03-03  67.80   63.42\n",
       "1   2024-03-16  68.04   63.78\n",
       "2   2024-03-25  68.21   64.03"
      ]
     },
     "execution_count": 164,
     "metadata": {},
     "output_type": "execute_result"
    }
   ],
   "source": [
    "frames = [manila, manila3]\n",
    "result = pd.concat(frames)\n",
    "result"
   ]
  },
  {
   "cell_type": "code",
   "execution_count": 194,
   "id": "23f7f0e4-87c6-4767-bea0-65e6a7a48c41",
   "metadata": {},
   "outputs": [
    {
     "data": {
      "text/plain": [
       "<Axes: xlabel='Date'>"
      ]
     },
     "execution_count": 194,
     "metadata": {},
     "output_type": "execute_result"
    },
    {
     "data": {
      "image/png": "[encoded data removed]",
      "text/plain": [
       "<Figure size 640x480 with 1 Axes>"
      ]
     },
     "metadata": {},
     "output_type": "display_data"
    }
   ],
   "source": [
    "plt.xticks(rotation=45)\n",
    "result.set_index(result[\"Date\"],inplace=True)\n",
    "sns.lineplot(data=result, dashes=False)"
   ]
  },
  {
   "cell_type": "code",
   "execution_count": null,
   "id": "0322d7a0-5f72-444e-80fc-af420ffd0871",
   "metadata": {},
   "outputs": [],
   "source": []
  }
 ],
 "metadata": {
  "kernelspec": {
   "display_name": "Python 3 (ipykernel)",
   "language": "python",
   "name": "python3"
  },
  "language_info": {
   "codemirror_mode": {
    "name": "ipython",
    "version": 3
   },
   "file_extension": ".py",
   "mimetype": "text/x-python",
   "name": "python",
   "nbconvert_exporter": "python",
   "pygments_lexer": "ipython3",
   "version": "3.12.0"
  }
 },
 "nbformat": 4,
 "nbformat_minor": 5
}
